{
 "cells": [
  {
   "cell_type": "code",
   "execution_count": 68,
   "id": "secondary-scene",
   "metadata": {},
   "outputs": [],
   "source": [
    "import pandas as pd\n",
    "import numpy as np\n",
    "import sys\n",
    "import sklearn"
   ]
  },
  {
   "cell_type": "code",
   "execution_count": 69,
   "id": "median-summary",
   "metadata": {},
   "outputs": [],
   "source": [
    "df = pd.read_csv('.../kddpretrainPre.csv')\n",
    "df_test = pd.read_csv('.../kddpretestPre.csv')"
   ]
  },
  {
   "cell_type": "code",
   "execution_count": 70,
   "id": "ongoing-tucson",
   "metadata": {},
   "outputs": [],
   "source": [
    "X_train = df.drop('label',1)\n",
    "Y_train = df.label\n",
    "\n",
    "X_test = df_test.drop('label',1)\n",
    "Y_test = df_test.label"
   ]
  },
  {
   "cell_type": "code",
   "execution_count": 71,
   "id": "major-matrix",
   "metadata": {},
   "outputs": [],
   "source": [
    "colNames=list(X_train)\n",
    "colNames_test=list(X_test)"
   ]
  },
  {
   "cell_type": "code",
   "execution_count": 72,
   "id": "whole-beauty",
   "metadata": {},
   "outputs": [],
   "source": [
    "from sklearn import preprocessing\n",
    "\n",
    "scaler0 = preprocessing.StandardScaler().fit(X_train)\n",
    "X_train=scaler0.transform(X_train)\n",
    "\n",
    "scaler1 = preprocessing.StandardScaler().fit(X_test)\n",
    "X_test=scaler1.transform(X_test) "
   ]
  },
  {
   "cell_type": "code",
   "execution_count": 73,
   "id": "endangered-worry",
   "metadata": {},
   "outputs": [
    {
     "name": "stdout",
     "output_type": "stream",
     "text": [
      "(125973, 122)\n"
     ]
    }
   ],
   "source": [
    "print(X_train.shape)"
   ]
  },
  {
   "cell_type": "code",
   "execution_count": 74,
   "id": "broadband-bundle",
   "metadata": {},
   "outputs": [],
   "source": [
    "from sklearn.tree import DecisionTreeClassifier\n",
    "from imblearn.under_sampling import RandomUnderSampler \n",
    "sampling_strategy = {0: 6, 1: 12, 2: 18, 3: 24, 4: 30}\n",
    "rus1 = RandomUnderSampler(sampling_strategy = sampling_strategy, random_state=99, replacement=False)"
   ]
  },
  {
   "cell_type": "code",
   "execution_count": 75,
   "id": "laden-disney",
   "metadata": {},
   "outputs": [],
   "source": [
    "X_train1, Y_train1 = rus1.fit_sample(X_train,Y_train)"
   ]
  },
  {
   "cell_type": "code",
   "execution_count": 76,
   "id": "commercial-hierarchy",
   "metadata": {},
   "outputs": [],
   "source": [
    "from sklearn.feature_selection import SelectPercentile, f_classif\n",
    "np.seterr(divide='ignore', invalid='ignore');\n",
    "from sklearn.feature_selection import RFE\n",
    "from sklearn.tree import DecisionTreeClassifier\n",
    "clf = DecisionTreeClassifier(criterion=\"gini\",max_depth=4,random_state=0)\n",
    "rfe = RFE(estimator=clf,n_features_to_select=17, step=1)"
   ]
  },
  {
   "cell_type": "code",
   "execution_count": 77,
   "id": "impaired-appraisal",
   "metadata": {},
   "outputs": [
    {
     "data": {
      "text/plain": [
       "(90, 17)"
      ]
     },
     "execution_count": 77,
     "metadata": {},
     "output_type": "execute_result"
    }
   ],
   "source": [
    "rfe.fit(X_train1, Y_train1)\n",
    "X_train1=rfe.transform(X_train1)\n",
    "true=rfe.support_\n",
    "rfecolindex_train=[i for i, x in enumerate(true) if x]\n",
    "rfecolname_train=list(colNames[i] for i in rfecolindex_train)\n",
    "X_train1.shape"
   ]
  },
  {
   "cell_type": "code",
   "execution_count": 78,
   "id": "stable-letter",
   "metadata": {},
   "outputs": [],
   "source": [
    "X_test=X_test[:,rfecolindex_train]"
   ]
  },
  {
   "cell_type": "code",
   "execution_count": 79,
   "id": "federal-hopkins",
   "metadata": {},
   "outputs": [
    {
     "data": {
      "text/plain": [
       "DecisionTreeClassifier(max_depth=4, random_state=0)"
      ]
     },
     "execution_count": 79,
     "metadata": {},
     "output_type": "execute_result"
    }
   ],
   "source": [
    "Dtree1=DecisionTreeClassifier(max_depth = 4,random_state=0)\n",
    "Dtree1.fit(X_train1, Y_train1)"
   ]
  },
  {
   "cell_type": "code",
   "execution_count": 81,
   "id": "large-skirt",
   "metadata": {},
   "outputs": [
    {
     "data": {
      "text/html": [
       "<div>\n",
       "<style scoped>\n",
       "    .dataframe tbody tr th:only-of-type {\n",
       "        vertical-align: middle;\n",
       "    }\n",
       "\n",
       "    .dataframe tbody tr th {\n",
       "        vertical-align: top;\n",
       "    }\n",
       "\n",
       "    .dataframe thead th {\n",
       "        text-align: right;\n",
       "    }\n",
       "</style>\n",
       "<table border=\"1\" class=\"dataframe\">\n",
       "  <thead>\n",
       "    <tr style=\"text-align: right;\">\n",
       "      <th>Predicted attacks</th>\n",
       "      <th>0</th>\n",
       "      <th>1</th>\n",
       "      <th>2</th>\n",
       "      <th>3</th>\n",
       "      <th>4</th>\n",
       "    </tr>\n",
       "    <tr>\n",
       "      <th>Actual attacks</th>\n",
       "      <th></th>\n",
       "      <th></th>\n",
       "      <th></th>\n",
       "      <th></th>\n",
       "      <th></th>\n",
       "    </tr>\n",
       "  </thead>\n",
       "  <tbody>\n",
       "    <tr>\n",
       "      <th>0</th>\n",
       "      <td>2833</td>\n",
       "      <td>931</td>\n",
       "      <td>1413</td>\n",
       "      <td>4316</td>\n",
       "      <td>218</td>\n",
       "    </tr>\n",
       "    <tr>\n",
       "      <th>1</th>\n",
       "      <td>357</td>\n",
       "      <td>5051</td>\n",
       "      <td>1264</td>\n",
       "      <td>786</td>\n",
       "      <td>2</td>\n",
       "    </tr>\n",
       "    <tr>\n",
       "      <th>2</th>\n",
       "      <td>0</td>\n",
       "      <td>777</td>\n",
       "      <td>1509</td>\n",
       "      <td>135</td>\n",
       "      <td>0</td>\n",
       "    </tr>\n",
       "    <tr>\n",
       "      <th>3</th>\n",
       "      <td>4</td>\n",
       "      <td>1</td>\n",
       "      <td>1585</td>\n",
       "      <td>1264</td>\n",
       "      <td>31</td>\n",
       "    </tr>\n",
       "    <tr>\n",
       "      <th>4</th>\n",
       "      <td>0</td>\n",
       "      <td>0</td>\n",
       "      <td>10</td>\n",
       "      <td>23</td>\n",
       "      <td>34</td>\n",
       "    </tr>\n",
       "  </tbody>\n",
       "</table>\n",
       "</div>"
      ],
      "text/plain": [
       "Predicted attacks     0     1     2     3    4\n",
       "Actual attacks                                \n",
       "0                  2833   931  1413  4316  218\n",
       "1                   357  5051  1264   786    2\n",
       "2                     0   777  1509   135    0\n",
       "3                     4     1  1585  1264   31\n",
       "4                     0     0    10    23   34"
      ]
     },
     "execution_count": 81,
     "metadata": {},
     "output_type": "execute_result"
    }
   ],
   "source": [
    "Y_pred=Dtree1.predict(X_test)\n",
    "\n",
    "pd.crosstab(Y_test, Y_pred, rownames=['Actual attacks'], colnames=['Predicted attacks'])"
   ]
  },
  {
   "cell_type": "code",
   "execution_count": 82,
   "id": "agricultural-knife",
   "metadata": {},
   "outputs": [],
   "source": [
    "from sklearn.model_selection import cross_val_score\n",
    "from sklearn import metrics"
   ]
  },
  {
   "cell_type": "code",
   "execution_count": 83,
   "id": "forbidden-editor",
   "metadata": {},
   "outputs": [
    {
     "name": "stdout",
     "output_type": "stream",
     "text": [
      "Accuracy: 0.84932 (+/- 0.01680)\n"
     ]
    }
   ],
   "source": [
    "accuracy = cross_val_score(Dtree1, X_test, Y_test, cv=5, scoring='accuracy')\n",
    "print(\"Accuracy: %0.5f (+/- %0.5f)\" % (accuracy.mean(), accuracy.std() * 2))"
   ]
  },
  {
   "cell_type": "code",
   "execution_count": 84,
   "id": "willing-substitute",
   "metadata": {},
   "outputs": [],
   "source": [
    "sampling_strategy = {0: 12, 1: 24}\n",
    "rus2 = RandomUnderSampler(sampling_strategy = sampling_strategy, random_state=99, replacement=False)"
   ]
  },
  {
   "cell_type": "code",
   "execution_count": 85,
   "id": "filled-behavior",
   "metadata": {},
   "outputs": [],
   "source": [
    "X_train2, Y_train2 = rus2.fit_sample(X_train,Y_train)"
   ]
  },
  {
   "cell_type": "code",
   "execution_count": 86,
   "id": "overhead-consortium",
   "metadata": {},
   "outputs": [
    {
     "data": {
      "text/plain": [
       "(12739, 17)"
      ]
     },
     "execution_count": 86,
     "metadata": {},
     "output_type": "execute_result"
    }
   ],
   "source": [
    "rfe.fit(X_train2, Y_train2)\n",
    "X_train2=rfe.transform(X_train2)\n",
    "true=rfe.support_\n",
    "rfecolindex_train=[i for i, x in enumerate(true) if x]\n",
    "rfecolname_train=list(colNames[i] for i in rfecolindex_train)\n",
    "X_train2.shape"
   ]
  },
  {
   "cell_type": "code",
   "execution_count": 87,
   "id": "vocational-prompt",
   "metadata": {},
   "outputs": [
    {
     "data": {
      "text/plain": [
       "DecisionTreeClassifier(max_depth=4, random_state=0)"
      ]
     },
     "execution_count": 87,
     "metadata": {},
     "output_type": "execute_result"
    }
   ],
   "source": [
    "Dtree2=DecisionTreeClassifier(max_depth = 4,random_state=0)\n",
    "Dtree2.fit(X_train2, Y_train2)"
   ]
  },
  {
   "cell_type": "code",
   "execution_count": 88,
   "id": "important-border",
   "metadata": {},
   "outputs": [
    {
     "data": {
      "text/html": [
       "<div>\n",
       "<style scoped>\n",
       "    .dataframe tbody tr th:only-of-type {\n",
       "        vertical-align: middle;\n",
       "    }\n",
       "\n",
       "    .dataframe tbody tr th {\n",
       "        vertical-align: top;\n",
       "    }\n",
       "\n",
       "    .dataframe thead th {\n",
       "        text-align: right;\n",
       "    }\n",
       "</style>\n",
       "<table border=\"1\" class=\"dataframe\">\n",
       "  <thead>\n",
       "    <tr style=\"text-align: right;\">\n",
       "      <th>Predicted attacks</th>\n",
       "      <th>0</th>\n",
       "      <th>1</th>\n",
       "      <th>2</th>\n",
       "      <th>3</th>\n",
       "    </tr>\n",
       "    <tr>\n",
       "      <th>Actual attacks</th>\n",
       "      <th></th>\n",
       "      <th></th>\n",
       "      <th></th>\n",
       "      <th></th>\n",
       "    </tr>\n",
       "  </thead>\n",
       "  <tbody>\n",
       "    <tr>\n",
       "      <th>0</th>\n",
       "      <td>409</td>\n",
       "      <td>0</td>\n",
       "      <td>9273</td>\n",
       "      <td>29</td>\n",
       "    </tr>\n",
       "    <tr>\n",
       "      <th>1</th>\n",
       "      <td>324</td>\n",
       "      <td>15</td>\n",
       "      <td>7104</td>\n",
       "      <td>17</td>\n",
       "    </tr>\n",
       "    <tr>\n",
       "      <th>2</th>\n",
       "      <td>598</td>\n",
       "      <td>1</td>\n",
       "      <td>1822</td>\n",
       "      <td>0</td>\n",
       "    </tr>\n",
       "    <tr>\n",
       "      <th>3</th>\n",
       "      <td>1</td>\n",
       "      <td>0</td>\n",
       "      <td>2884</td>\n",
       "      <td>0</td>\n",
       "    </tr>\n",
       "    <tr>\n",
       "      <th>4</th>\n",
       "      <td>0</td>\n",
       "      <td>0</td>\n",
       "      <td>67</td>\n",
       "      <td>0</td>\n",
       "    </tr>\n",
       "  </tbody>\n",
       "</table>\n",
       "</div>"
      ],
      "text/plain": [
       "Predicted attacks    0   1     2   3\n",
       "Actual attacks                      \n",
       "0                  409   0  9273  29\n",
       "1                  324  15  7104  17\n",
       "2                  598   1  1822   0\n",
       "3                    1   0  2884   0\n",
       "4                    0   0    67   0"
      ]
     },
     "execution_count": 88,
     "metadata": {},
     "output_type": "execute_result"
    }
   ],
   "source": [
    "Y_pred=Dtree2.predict(X_test)\n",
    "\n",
    "pd.crosstab(Y_test, Y_pred, rownames=['Actual attacks'], colnames=['Predicted attacks'])"
   ]
  },
  {
   "cell_type": "code",
   "execution_count": 89,
   "id": "dominant-respect",
   "metadata": {},
   "outputs": [
    {
     "name": "stdout",
     "output_type": "stream",
     "text": [
      "Accuracy: 0.84989 (+/- 0.02495)\n"
     ]
    }
   ],
   "source": [
    "accuracy = cross_val_score(Dtree2, X_test, Y_test, cv=30, scoring='accuracy')\n",
    "print(\"Accuracy: %0.5f (+/- %0.5f)\" % (accuracy.mean(), accuracy.std() * 2))"
   ]
  },
  {
   "cell_type": "code",
   "execution_count": 90,
   "id": "pharmaceutical-contact",
   "metadata": {},
   "outputs": [],
   "source": [
    "sampling_strategy = {0: 1, 1: 2, 2: 3, 3: 4,}\n",
    "rus3 = RandomUnderSampler(sampling_strategy = sampling_strategy, random_state=99, replacement=False)"
   ]
  },
  {
   "cell_type": "code",
   "execution_count": 91,
   "id": "first-barbados",
   "metadata": {},
   "outputs": [],
   "source": [
    "X_train3, Y_train3 = rus3.fit_sample(X_train,Y_train)"
   ]
  },
  {
   "cell_type": "code",
   "execution_count": 92,
   "id": "regulation-lover",
   "metadata": {},
   "outputs": [
    {
     "data": {
      "text/plain": [
       "(62, 17)"
      ]
     },
     "execution_count": 92,
     "metadata": {},
     "output_type": "execute_result"
    }
   ],
   "source": [
    "rfe.fit(X_train3, Y_train3)\n",
    "X_train3=rfe.transform(X_train3)\n",
    "true=rfe.support_\n",
    "rfecolindex_train=[i for i, x in enumerate(true) if x]\n",
    "rfecolname_train=list(colNames[i] for i in rfecolindex_train)\n",
    "X_train3.shape"
   ]
  },
  {
   "cell_type": "code",
   "execution_count": 93,
   "id": "nuclear-south",
   "metadata": {},
   "outputs": [
    {
     "data": {
      "text/plain": [
       "DecisionTreeClassifier(max_depth=4, random_state=0)"
      ]
     },
     "execution_count": 93,
     "metadata": {},
     "output_type": "execute_result"
    }
   ],
   "source": [
    "Dtree3=DecisionTreeClassifier(max_depth = 4,random_state=0)\n",
    "Dtree3.fit(X_train3, Y_train3)"
   ]
  },
  {
   "cell_type": "code",
   "execution_count": 94,
   "id": "dependent-commitment",
   "metadata": {},
   "outputs": [
    {
     "data": {
      "text/html": [
       "<div>\n",
       "<style scoped>\n",
       "    .dataframe tbody tr th:only-of-type {\n",
       "        vertical-align: middle;\n",
       "    }\n",
       "\n",
       "    .dataframe tbody tr th {\n",
       "        vertical-align: top;\n",
       "    }\n",
       "\n",
       "    .dataframe thead th {\n",
       "        text-align: right;\n",
       "    }\n",
       "</style>\n",
       "<table border=\"1\" class=\"dataframe\">\n",
       "  <thead>\n",
       "    <tr style=\"text-align: right;\">\n",
       "      <th>Predicted attacks</th>\n",
       "      <th>2</th>\n",
       "      <th>3</th>\n",
       "      <th>4</th>\n",
       "    </tr>\n",
       "    <tr>\n",
       "      <th>Actual attacks</th>\n",
       "      <th></th>\n",
       "      <th></th>\n",
       "      <th></th>\n",
       "    </tr>\n",
       "  </thead>\n",
       "  <tbody>\n",
       "    <tr>\n",
       "      <th>0</th>\n",
       "      <td>6648</td>\n",
       "      <td>9</td>\n",
       "      <td>3054</td>\n",
       "    </tr>\n",
       "    <tr>\n",
       "      <th>1</th>\n",
       "      <td>7101</td>\n",
       "      <td>0</td>\n",
       "      <td>359</td>\n",
       "    </tr>\n",
       "    <tr>\n",
       "      <th>2</th>\n",
       "      <td>2421</td>\n",
       "      <td>0</td>\n",
       "      <td>0</td>\n",
       "    </tr>\n",
       "    <tr>\n",
       "      <th>3</th>\n",
       "      <td>2849</td>\n",
       "      <td>1</td>\n",
       "      <td>35</td>\n",
       "    </tr>\n",
       "    <tr>\n",
       "      <th>4</th>\n",
       "      <td>31</td>\n",
       "      <td>2</td>\n",
       "      <td>34</td>\n",
       "    </tr>\n",
       "  </tbody>\n",
       "</table>\n",
       "</div>"
      ],
      "text/plain": [
       "Predicted attacks     2  3     4\n",
       "Actual attacks                  \n",
       "0                  6648  9  3054\n",
       "1                  7101  0   359\n",
       "2                  2421  0     0\n",
       "3                  2849  1    35\n",
       "4                    31  2    34"
      ]
     },
     "execution_count": 94,
     "metadata": {},
     "output_type": "execute_result"
    }
   ],
   "source": [
    "Y_pred=Dtree3.predict(X_test)\n",
    "\n",
    "pd.crosstab(Y_test, Y_pred, rownames=['Actual attacks'], colnames=['Predicted attacks'])"
   ]
  },
  {
   "cell_type": "code",
   "execution_count": 95,
   "id": "natural-headquarters",
   "metadata": {},
   "outputs": [
    {
     "name": "stdout",
     "output_type": "stream",
     "text": [
      "Accuracy: 0.84932 (+/- 0.01680)\n"
     ]
    }
   ],
   "source": [
    "accuracy = cross_val_score(Dtree3, X_test, Y_test, cv=5, scoring='accuracy')\n",
    "print(\"Accuracy: %0.5f (+/- %0.5f)\" % (accuracy.mean(), accuracy.std() * 2))"
   ]
  },
  {
   "cell_type": "code",
   "execution_count": 96,
   "id": "covered-jonathan",
   "metadata": {},
   "outputs": [
    {
     "name": "stdout",
     "output_type": "stream",
     "text": [
      "Mean of Whole Accuracy = \n",
      "0.84951\n"
     ]
    }
   ],
   "source": [
    "print(\"Mean of Whole Accuracy = \")\n",
    "print(((0.84932 + 0.84989 + 0.84932)/3))"
   ]
  },
  {
   "cell_type": "code",
   "execution_count": null,
   "id": "infrared-america",
   "metadata": {},
   "outputs": [],
   "source": []
  }
 ],
 "metadata": {
  "kernelspec": {
   "display_name": "Python 3",
   "language": "python",
   "name": "python3"
  },
  "language_info": {
   "codemirror_mode": {
    "name": "ipython",
    "version": 3
   },
   "file_extension": ".py",
   "mimetype": "text/x-python",
   "name": "python",
   "nbconvert_exporter": "python",
   "pygments_lexer": "ipython3",
   "version": "3.8.0"
  }
 },
 "nbformat": 4,
 "nbformat_minor": 5
}
